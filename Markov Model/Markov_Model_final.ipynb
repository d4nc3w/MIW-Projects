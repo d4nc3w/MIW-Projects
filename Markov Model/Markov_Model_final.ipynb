{
 "cells": [
  {
   "cell_type": "code",
   "execution_count": 1,
   "id": "71832ae5-9b2a-4779-aceb-ce30f5ff3dad",
   "metadata": {},
   "outputs": [],
   "source": [
    "import numpy as np"
   ]
  },
  {
   "cell_type": "code",
   "execution_count": 3,
   "id": "baecf69a-99d5-4c32-bb86-f424b18637b1",
   "metadata": {},
   "outputs": [],
   "source": [
    "class HiddenMarkovModel:\n",
    "    def __init__(self, states: list[str]) -> None:\n",
    "        self.states = states\n",
    "        self.transitions = {}\n",
    "\n",
    "    def predict_next_state(self, current_state: str) -> str:\n",
    "        if current_state not in self.transitions or not self.transitions[current_state]:\n",
    "            return np.random.choice(self.states)\n",
    "\n",
    "        next_states = list(self.transitions[current_state].keys())\n",
    "        counts = list(self.transitions[current_state].values())\n",
    "\n",
    "        return np.random.choice(next_states, p=np.array(counts) / sum(counts))\n",
    "\n",
    "    def learn_transition(self, state_from: str, state_to: str) -> None:\n",
    "        if state_from not in self.transitions:\n",
    "            self.transitions[state_from] = {}\n",
    "\n",
    "        if state_to not in self.transitions[state_from]:\n",
    "            self.transitions[state_from][state_to] = 0\n",
    "\n",
    "        self.transitions[state_from][state_to] += 1\n",
    "\n",
    "    def generate_sentence(self, length: int) -> str:\n",
    "        start_word = np.random.choice(self.states).capitalize()\n",
    "        sentence = [start_word]\n",
    "\n",
    "        for i in range(length - 1):\n",
    "            next_word = self.predict_next_state(sentence[-1])\n",
    "            sentence.append(next_word.lower())\n",
    "        return \" \".join(sentence)"
   ]
  },
  {
   "cell_type": "code",
   "execution_count": 5,
   "id": "ca1e357c-a56d-4019-9de6-4a0898941300",
   "metadata": {},
   "outputs": [],
   "source": [
    "def read_data(filename: str) -> list[str]:\n",
    "    with open(filename, 'r', encoding='utf-8') as file:\n",
    "        words = file.read().replace(\".\\n\", \" \").split()\n",
    "    return words\n",
    "\n",
    "data = read_data(\"yoda.txt\")"
   ]
  },
  {
   "cell_type": "code",
   "execution_count": 7,
   "id": "2d032bab-daf1-4c37-ada7-1f03113cfb74",
   "metadata": {},
   "outputs": [
    {
     "name": "stdout",
     "output_type": "stream",
     "text": [
      "Greed, jedi, force’s rage, wisdom speaks its purpose\n",
      "Blow try. but discovered in silence; listen closely\n",
      "This is in the past teach, but bind\n",
      "Free beyond the fight through every whispered breeze,\n",
      "Once voice of fear, the force of the\n",
      "Truths sometimes flows through all, binding every victory,\n",
      "Light, hardship, the force of the mirror of\n",
      "Are, spoken let your inner light of ups\n"
     ]
    }
   ],
   "source": [
    "model = HiddenMarkovModel(list(set(data)))\n",
    "for i in range(len(data) - 1):\n",
    "    model.learn_transition(data[i], data[i + 1])\n",
    "\n",
    "print(model.generate_sentence(8))\n",
    "print(model.generate_sentence(8))\n",
    "print(model.generate_sentence(8))\n",
    "print(model.generate_sentence(8))\n",
    "print(model.generate_sentence(8))\n",
    "print(model.generate_sentence(8))\n",
    "print(model.generate_sentence(8))\n",
    "print(model.generate_sentence(8))"
   ]
  },
  {
   "cell_type": "code",
   "execution_count": null,
   "id": "b69c10cb-7023-47ea-9d99-642ce306b4e0",
   "metadata": {},
   "outputs": [],
   "source": []
  }
 ],
 "metadata": {
  "kernelspec": {
   "display_name": "Python [conda env:base] *",
   "language": "python",
   "name": "conda-base-py"
  },
  "language_info": {
   "codemirror_mode": {
    "name": "ipython",
    "version": 3
   },
   "file_extension": ".py",
   "mimetype": "text/x-python",
   "name": "python",
   "nbconvert_exporter": "python",
   "pygments_lexer": "ipython3",
   "version": "3.12.9"
  }
 },
 "nbformat": 4,
 "nbformat_minor": 5
}
