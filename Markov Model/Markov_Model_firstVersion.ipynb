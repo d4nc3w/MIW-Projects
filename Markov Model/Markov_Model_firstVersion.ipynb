{
 "cells": [
  {
   "cell_type": "code",
   "execution_count": 266,
   "id": "fa909f18-10a4-4465-9943-111922dfd9eb",
   "metadata": {},
   "outputs": [],
   "source": [
    "import numpy as np"
   ]
  },
  {
   "cell_type": "code",
   "execution_count": 280,
   "id": "93cebbfd-ff84-41eb-8015-e6f25cd4b917",
   "metadata": {},
   "outputs": [],
   "source": [
    "options: list[str] = ['R', 'P', 'S']\n",
    "counter_move = {\"R\": \"P\", \"P\": \"S\", \"S\": \"R\"}"
   ]
  },
  {
   "cell_type": "code",
   "execution_count": 321,
   "id": "293d7edb-7b4b-4197-8dc1-73f3650044de",
   "metadata": {},
   "outputs": [],
   "source": [
    "class HiddenMarkovModel:\n",
    "    def __init__(self) -> None:\n",
    "            self.states: list[str] = ['R', 'P', 'S']\n",
    "            self.transitions: dict[str, dict[str, int]] = {\n",
    "            state: {s: 0 for s in self.states} for state in self.states  \n",
    "        }\n",
    "\n",
    "    def learn_transition(self, state_from: str, state_to: str, payout: int) -> None:\n",
    "        if state_from not in self.transitions:\n",
    "            self.transitions[state_from] = {s: 0 for s in self.states}\n",
    "        if payout == 1:\n",
    "            self.transitions[state_from][state_to] += 1\n",
    "        elif payout == -1:\n",
    "            self.transitions[state_from][state_to] = max(0, self.transitions[state_from][state_to] - 1)\n",
    "\n",
    "    def predict_next_state(self, current_state: str) -> str:\n",
    "        transitions = self.transitions[current_state]\n",
    "        max_count = max(transitions.values(), default = 0)\n",
    "        candidates = [state for state, count in transitions.items() if count == max_count]\n",
    "        \n",
    "        return np.random.choice(candidates) if candidates else np.random.choice(list(self.states))\n",
    "        "
   ]
  },
  {
   "cell_type": "code",
   "execution_count": 323,
   "id": "18f80cea-cd88-4872-92d2-d11955de21ac",
   "metadata": {},
   "outputs": [],
   "source": [
    "def get_payout(ai_choice, opponent_choice):\n",
    "    if ai_choice == opponent_choice:\n",
    "        return 0  \n",
    "    elif (ai_choice == \"R\" and opponent_choice == \"S\") or \\\n",
    "         (ai_choice == \"P\" and opponent_choice == \"R\") or \\\n",
    "         (ai_choice == \"S\" and opponent_choice == \"P\"):\n",
    "        return 1  \n",
    "    else:\n",
    "        return -1 "
   ]
  },
  {
   "cell_type": "code",
   "execution_count": 325,
   "id": "a4acdfda-0976-4cf0-a948-7acc4d56e519",
   "metadata": {},
   "outputs": [],
   "source": [
    "model = HiddenMarkovModel()\n",
    "previous_state = np.random.choice(options)"
   ]
  },
  {
   "cell_type": "code",
   "execution_count": 327,
   "id": "9e19e5af-77e7-4bf3-8915-9fd74e2e523b",
   "metadata": {},
   "outputs": [
    {
     "name": "stdout",
     "output_type": "stream",
     "text": [
      "AI predicted: P, AI played: S, Opponent played: R, Payout: -1\n",
      "AI predicted: S, AI played: R, Opponent played: R, Payout: 0\n",
      "AI predicted: S, AI played: R, Opponent played: R, Payout: 0\n",
      "AI predicted: R, AI played: P, Opponent played: S, Payout: -1\n",
      "AI predicted: S, AI played: R, Opponent played: R, Payout: 0\n",
      "AI predicted: R, AI played: P, Opponent played: R, Payout: 1\n",
      "AI predicted: R, AI played: P, Opponent played: S, Payout: -1\n",
      "AI predicted: P, AI played: S, Opponent played: S, Payout: 0\n",
      "AI predicted: P, AI played: S, Opponent played: P, Payout: 1\n",
      "AI predicted: S, AI played: R, Opponent played: R, Payout: 0\n",
      "AI predicted: R, AI played: P, Opponent played: R, Payout: 1\n",
      "AI predicted: R, AI played: P, Opponent played: S, Payout: -1\n",
      "AI predicted: P, AI played: S, Opponent played: S, Payout: 0\n",
      "AI predicted: P, AI played: S, Opponent played: P, Payout: 1\n",
      "AI predicted: S, AI played: R, Opponent played: R, Payout: 0\n",
      "AI predicted: R, AI played: P, Opponent played: R, Payout: 1\n",
      "AI predicted: R, AI played: P, Opponent played: R, Payout: 1\n",
      "AI predicted: R, AI played: P, Opponent played: R, Payout: 1\n",
      "AI predicted: R, AI played: P, Opponent played: P, Payout: 0\n",
      "AI predicted: S, AI played: R, Opponent played: R, Payout: 0\n",
      "AI predicted: R, AI played: P, Opponent played: S, Payout: -1\n",
      "AI predicted: P, AI played: S, Opponent played: R, Payout: -1\n",
      "AI predicted: R, AI played: P, Opponent played: S, Payout: -1\n",
      "AI predicted: P, AI played: S, Opponent played: S, Payout: 0\n",
      "AI predicted: P, AI played: S, Opponent played: P, Payout: 1\n",
      "AI predicted: S, AI played: R, Opponent played: S, Payout: 1\n",
      "AI predicted: P, AI played: S, Opponent played: S, Payout: 0\n",
      "AI predicted: P, AI played: S, Opponent played: R, Payout: -1\n",
      "AI predicted: R, AI played: P, Opponent played: S, Payout: -1\n",
      "AI predicted: P, AI played: S, Opponent played: R, Payout: -1\n",
      "AI predicted: R, AI played: P, Opponent played: S, Payout: -1\n",
      "AI predicted: P, AI played: S, Opponent played: R, Payout: -1\n",
      "AI predicted: R, AI played: P, Opponent played: P, Payout: 0\n",
      "AI predicted: S, AI played: R, Opponent played: S, Payout: 1\n",
      "AI predicted: P, AI played: S, Opponent played: P, Payout: 1\n",
      "AI predicted: S, AI played: R, Opponent played: S, Payout: 1\n",
      "AI predicted: P, AI played: S, Opponent played: S, Payout: 0\n",
      "AI predicted: P, AI played: S, Opponent played: S, Payout: 0\n",
      "AI predicted: P, AI played: S, Opponent played: S, Payout: 0\n",
      "AI predicted: P, AI played: S, Opponent played: S, Payout: 0\n",
      "AI predicted: P, AI played: S, Opponent played: S, Payout: 0\n",
      "AI predicted: P, AI played: S, Opponent played: P, Payout: 1\n",
      "AI predicted: S, AI played: R, Opponent played: P, Payout: -1\n",
      "AI predicted: S, AI played: R, Opponent played: S, Payout: 1\n",
      "AI predicted: P, AI played: S, Opponent played: R, Payout: -1\n",
      "AI predicted: R, AI played: P, Opponent played: R, Payout: 1\n",
      "AI predicted: R, AI played: P, Opponent played: P, Payout: 0\n",
      "AI predicted: S, AI played: R, Opponent played: R, Payout: 0\n",
      "AI predicted: R, AI played: P, Opponent played: S, Payout: -1\n",
      "AI predicted: P, AI played: S, Opponent played: S, Payout: 0\n",
      "\n",
      "Accuracy: 0.4\n"
     ]
    }
   ],
   "source": [
    "correct_predictions = 0\n",
    "total_games = 50\n",
    "\n",
    "for _ in range(total_games):\n",
    "    opponent_choice = np.random.choice(options)  \n",
    "    \n",
    "    predicted_next = model.predict_next_state(previous_state)\n",
    "    ai_choice = counter_move[predicted_next] \n",
    "\n",
    "    payout = get_payout(ai_choice, opponent_choice)\n",
    "\n",
    "    model.learn_transition(previous_state, opponent_choice, payout)\n",
    "    previous_state = opponent_choice  \n",
    "\n",
    "    print(f\"AI predicted: {predicted_next}, AI played: {ai_choice}, Opponent played: {opponent_choice}, Payout: {payout}\")\n",
    "    \n",
    "    if ai_choice == opponent_choice:\n",
    "        correct_predictions += 1\n",
    "        \n",
    "print(\"\\nAccuracy:\", correct_predictions / total_games)"
   ]
  },
  {
   "cell_type": "code",
   "execution_count": null,
   "id": "a018040a-39bc-4924-8632-2febf4c0e321",
   "metadata": {},
   "outputs": [],
   "source": []
  }
 ],
 "metadata": {
  "kernelspec": {
   "display_name": "Python [conda env:base] *",
   "language": "python",
   "name": "conda-base-py"
  },
  "language_info": {
   "codemirror_mode": {
    "name": "ipython",
    "version": 3
   },
   "file_extension": ".py",
   "mimetype": "text/x-python",
   "name": "python",
   "nbconvert_exporter": "python",
   "pygments_lexer": "ipython3",
   "version": "3.12.9"
  }
 },
 "nbformat": 4,
 "nbformat_minor": 5
}
