{
 "cells": [
  {
   "cell_type": "code",
   "execution_count": 82,
   "id": "fa909f18-10a4-4465-9943-111922dfd9eb",
   "metadata": {},
   "outputs": [],
   "source": [
    "import numpy as np\n",
    "import matplotlib.pyplot as plt"
   ]
  },
  {
   "cell_type": "code",
   "execution_count": 84,
   "id": "2ce93eec-859b-4258-b489-c22977579a33",
   "metadata": {},
   "outputs": [],
   "source": [
    "class HiddenMarkovModel:\n",
    "    def __init__(self) -> None:\n",
    "        self.states: list[str] = ['R', 'P', 'S']\n",
    "        self.transitions: dict[str, dict[str, int]] = { \n",
    "            'R': {'R': 1, 'P': 1, 'S': 1}, \n",
    "            'P': {'R': 1, 'P': 1, 'S': 1}, \n",
    "            'S': {'R': 1, 'P': 1, 'S': 1} \n",
    "        }\n",
    "\n",
    "    def _normalize(self, state_from: str) -> None:\n",
    "        total = sum(self.transitions[state_from].values())\n",
    "        if total > 0:\n",
    "            for state in self.states:\n",
    "                self.transitions[state_from][state] /= total\n",
    "                \n",
    "    def learn_transition(self, state_from: str, state_to: str, payout: int) -> None:\n",
    "        if payout == 1:\n",
    "            self.transitions[state_from][state_to] += 1\n",
    "           # self.transitions[state_from][state_to] *= 1.1\n",
    "        elif payout == -1:\n",
    "            self.transitions[state_from][state_to] *= 0.9\n",
    "\n",
    "    def predict_next_state(self, current_state: str) -> str:\n",
    "        transitions = self.transitions[current_state]\n",
    "        max_count = max(transitions.values(), default=0)\n",
    "        candidates = []\n",
    "        for state, count in transitions.items():\n",
    "            if count == max_count:\n",
    "                candidates.append(state)\n",
    "\n",
    "        if candidates:\n",
    "            return np.random.choice(candidates)\n",
    "        return np.random.choice(self.states)"
   ]
  },
  {
   "cell_type": "code",
   "execution_count": 86,
   "id": "6cbff6c0-0ee0-48b2-89f1-637956c543db",
   "metadata": {},
   "outputs": [],
   "source": [
    "def get_payout(computer_choice: str, player_choice: str) -> int:\n",
    "    win_conditions = {\"R\": \"S\", \"P\": \"R\", \"S\": \"P\"}\n",
    "\n",
    "    if computer_choice == player_choice:\n",
    "        return 0 \n",
    "    elif win_conditions[computer_choice] == player_choice:\n",
    "        return 1 \n",
    "    else:\n",
    "        return -1  "
   ]
  },
  {
   "cell_type": "code",
   "execution_count": 88,
   "id": "ec203b1e-7051-47e9-bc18-811d98e67281",
   "metadata": {},
   "outputs": [],
   "source": [
    "model = HiddenMarkovModel()\n",
    "options = ['R', 'P', 'S']\n",
    "counter_move = {\"R\": \"P\", \"P\": \"S\", \"S\": \"R\"}  \n",
    "previous_state = np.random.choice(options)"
   ]
  },
  {
   "cell_type": "code",
   "execution_count": 199,
   "id": "b0fac227-e395-4b04-972c-6dec28baffd1",
   "metadata": {},
   "outputs": [
    {
     "name": "stdout",
     "output_type": "stream",
     "text": [
      "Prediction: S, Computer: R, Player: P, Points: -1\n",
      "Prediction: R, Computer: P, Player: S, Points: -1\n",
      "Prediction: S, Computer: R, Player: R, Points: 0\n",
      "Prediction: S, Computer: R, Player: S, Points: 1\n",
      "Prediction: S, Computer: R, Player: R, Points: 0\n",
      "Prediction: S, Computer: R, Player: S, Points: 1\n",
      "Prediction: S, Computer: R, Player: S, Points: 1\n",
      "Prediction: S, Computer: R, Player: S, Points: 1\n",
      "Prediction: S, Computer: R, Player: P, Points: -1\n",
      "Prediction: R, Computer: P, Player: R, Points: 1\n",
      "Prediction: S, Computer: R, Player: R, Points: 0\n",
      "Prediction: S, Computer: R, Player: R, Points: 0\n",
      "Prediction: S, Computer: R, Player: P, Points: -1\n",
      "Prediction: R, Computer: P, Player: R, Points: 1\n",
      "Prediction: S, Computer: R, Player: R, Points: 0\n",
      "Prediction: S, Computer: R, Player: R, Points: 0\n",
      "Prediction: S, Computer: R, Player: P, Points: -1\n",
      "Prediction: R, Computer: P, Player: P, Points: 0\n",
      "Prediction: R, Computer: P, Player: P, Points: 0\n",
      "Prediction: R, Computer: P, Player: R, Points: 1\n",
      "Prediction: S, Computer: R, Player: P, Points: -1\n",
      "Prediction: R, Computer: P, Player: S, Points: -1\n",
      "Prediction: S, Computer: R, Player: S, Points: 1\n",
      "Prediction: S, Computer: R, Player: S, Points: 1\n",
      "Prediction: S, Computer: R, Player: S, Points: 1\n",
      "Prediction: S, Computer: R, Player: S, Points: 1\n",
      "Prediction: S, Computer: R, Player: R, Points: 0\n",
      "Prediction: S, Computer: R, Player: P, Points: -1\n",
      "Prediction: R, Computer: P, Player: P, Points: 0\n",
      "Prediction: R, Computer: P, Player: S, Points: -1\n",
      "Prediction: S, Computer: R, Player: S, Points: 1\n",
      "Prediction: S, Computer: R, Player: S, Points: 1\n",
      "Prediction: S, Computer: R, Player: S, Points: 1\n",
      "Prediction: S, Computer: R, Player: P, Points: -1\n",
      "Prediction: R, Computer: P, Player: S, Points: -1\n",
      "Prediction: S, Computer: R, Player: R, Points: 0\n",
      "Prediction: S, Computer: R, Player: S, Points: 1\n",
      "Prediction: S, Computer: R, Player: S, Points: 1\n",
      "Prediction: S, Computer: R, Player: R, Points: 0\n",
      "Prediction: S, Computer: R, Player: P, Points: -1\n",
      "Prediction: R, Computer: P, Player: R, Points: 1\n",
      "Prediction: S, Computer: R, Player: R, Points: 0\n",
      "Prediction: S, Computer: R, Player: P, Points: -1\n",
      "Prediction: R, Computer: P, Player: R, Points: 1\n",
      "Prediction: S, Computer: R, Player: S, Points: 1\n",
      "Prediction: S, Computer: R, Player: S, Points: 1\n",
      "Prediction: S, Computer: R, Player: P, Points: -1\n",
      "Prediction: R, Computer: P, Player: P, Points: 0\n",
      "Prediction: R, Computer: P, Player: P, Points: 0\n",
      "Prediction: R, Computer: P, Player: P, Points: 0\n",
      "\n",
      "Accuracy: 0.4\n"
     ]
    }
   ],
   "source": [
    "num_of_games = 50\n",
    "cumulative_score = 0\n",
    "correct_predictions = 0\n",
    "scores = []\n",
    "\n",
    "for i in range(num_of_games):\n",
    "    player_move = np.random.choice(options) \n",
    "\n",
    "    pred = model.predict_next_state(previous_state)\n",
    "    computer_move = counter_move[pred]  \n",
    "\n",
    "    payout = get_payout(computer_move, player_move)\n",
    "    model.learn_transition(previous_state, player_move, payout)\n",
    "\n",
    "    previous_state = player_move\n",
    "\n",
    "    if pred == player_move:\n",
    "        correct_predictions += 1\n",
    "\n",
    "    cumulative_score += payout\n",
    "    scores.append(cumulative_score)\n",
    "\n",
    "    print(f\"Prediction: {pred}, Computer: {computer_move}, Player: {player_move}, Points: {payout}\")\n",
    "\n",
    "print(\"\\nAccuracy:\", correct_predictions / num_of_games)"
   ]
  },
  {
   "cell_type": "code",
   "execution_count": 201,
   "id": "c6e62260-8d8b-4425-9a87-37c996d02126",
   "metadata": {},
   "outputs": [
    {
     "data": {
      "image/png": "[encoded data removed]",
      "text/plain": [
       "<Figure size 1000x500 with 1 Axes>"
      ]
     },
     "metadata": {},
     "output_type": "display_data"
    }
   ],
   "source": [
    "plt.figure(figsize=(10, 5))\n",
    "plt.title(\"Game graph\")\n",
    "plt.plot(range(1, num_of_games + 1), scores, marker='o', linestyle='-', color='b', label=\"Score\")\n",
    "plt.xlabel(\"Games\")\n",
    "plt.ylabel(\"Points\")\n",
    "plt.legend()\n",
    "plt.grid(True)\n",
    "plt.show()"
   ]
  }
 ],
 "metadata": {
  "kernelspec": {
   "display_name": "Python [conda env:base] *",
   "language": "python",
   "name": "conda-base-py"
  },
  "language_info": {
   "codemirror_mode": {
    "name": "ipython",
    "version": 3
   },
   "file_extension": ".py",
   "mimetype": "text/x-python",
   "name": "python",
   "nbconvert_exporter": "python",
   "pygments_lexer": "ipython3",
   "version": "3.12.9"
  }
 },
 "nbformat": 4,
 "nbformat_minor": 5
}
